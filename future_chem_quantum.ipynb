{
 "cells": [
  {
   "cell_type": "markdown",
   "metadata": {},
   "source": [
    "https://future-chem.com/\n",
    "こちらよりスクリプトを引用しました。"
   ]
  },
  {
   "cell_type": "code",
   "execution_count": 1,
   "metadata": {
    "scrolled": true
   },
   "outputs": [
    {
     "data": {
      "text/plain": [
       "-76.02663273509032"
      ]
     },
     "execution_count": 1,
     "metadata": {},
     "output_type": "execute_result"
    }
   ],
   "source": [
    "import psi4\n",
    "\n",
    "psi4.set_memory('500 MB')\n",
    "\n",
    "h2o = psi4.geometry(\"\"\"\n",
    "O\n",
    "H 1 0.96\n",
    "H 1 0.96 2 104.5\n",
    "\"\"\")\n",
    "\n",
    "psi4.energy('scf/cc-pvdz')"
   ]
  },
  {
   "cell_type": "code",
   "execution_count": 2,
   "metadata": {},
   "outputs": [],
   "source": [
    "import datetime\n",
    "import time\n",
    "\n",
    "t = datetime.datetime.fromtimestamp(time.time())\n",
    "\n",
    "psi4.set_num_threads(nthread=12)\n",
    "psi4.set_memory('16GB')\n",
    "psi4.set_output_file('{}{}{}_{}{}.log'.format(t.year,\n",
    "                                              t.month,\n",
    "                                              t.day,\n",
    "                                              t.hour,\n",
    "                                              t.minute))"
   ]
  },
  {
   "cell_type": "code",
   "execution_count": 3,
   "metadata": {},
   "outputs": [],
   "source": [
    "### Z-matrix\n",
    "h2O_zmat = psi4.geometry('''\n",
    "0 1\n",
    "O\n",
    "H 1 0.96\n",
    "H 1 0.96 2 104.5''')"
   ]
  },
  {
   "cell_type": "code",
   "execution_count": 4,
   "metadata": {},
   "outputs": [
    {
     "name": "stdout",
     "output_type": "stream",
     "text": [
      "energy at the hf/sto-3g level of theory:\t-74.9634\n",
      "energy at the hf/3-21G level of theory:\t-75.5854\n",
      "energy at the b3lyp/sto-3g level of theory:\t-75.3135\n",
      "energy at the b3lyp/3-21G level of theory:\t-75.9718\n"
     ]
    }
   ],
   "source": [
    "theory = ['hf', 'b3lyp']\n",
    "basis_set = ['sto-3g', '3-21G']\n",
    "\n",
    "import itertools\n",
    "\n",
    "for th, ba in itertools.product(theory, basis_set):\n",
    "    level = th + '/' + ba\n",
    "    e = psi4.energy(level, molecule=h2O_zmat)\n",
    "    print('energy at the {} level of theory:\\t{:.4f}'.format(level, e))"
   ]
  },
  {
   "cell_type": "code",
   "execution_count": 5,
   "metadata": {},
   "outputs": [
    {
     "name": "stdout",
     "output_type": "stream",
     "text": [
      "energy for d = 0.85: -74.9100\n",
      "energy for d = 0.9: -74.9451\n",
      "energy for d = 0.95: -74.9618\n",
      "energy for d = 1.0: -74.9648\n",
      "energy for d = 1.05: -74.9572\n"
     ]
    }
   ],
   "source": [
    "geom = '''\n",
    "0 1\n",
    "O\n",
    "H 1 {0}\n",
    "H 1 {0} 2 104.5'''\n",
    "\n",
    "for i in [0.85, 0.90, 0.95, 1.00, 1.05]:\n",
    "    h2O = psi4.geometry(geom.format(i))\n",
    "    e = psi4.energy('hf/sto-3g', molecule=h2O)\n",
    "    print('energy for d = {}: {:.4f}'.format(i, e))"
   ]
  },
  {
   "cell_type": "code",
   "execution_count": 5,
   "metadata": {},
   "outputs": [
    {
     "name": "stdout",
     "output_type": "stream",
     "text": [
      "Optimizer: Optimization complete!\n"
     ]
    },
    {
     "data": {
      "text/plain": [
       "-305.0608618365619"
      ]
     },
     "execution_count": 5,
     "metadata": {},
     "output_type": "execute_result"
    }
   ],
   "source": [
    "import sys\n",
    "import os\n",
    "import datetime\n",
    "\n",
    "file_name = sys.argv[0]\n",
    "file, _ = os.path.splitext(file_name)\n",
    "now = datetime.datetime.now()\n",
    "\n",
    "logfile = file + '_{}{}{}_{}{}.log'.format(now.year, now.month, now.day, now.hour, now.minute)\n",
    "\n",
    "psi4.set_num_threads(nthread=12)\n",
    "psi4.set_memory('16GB')\n",
    "psi4.set_output_file(logfile)\n",
    "\n",
    "m_xylene = psi4.geometry('''\n",
    "0 1\n",
    "H          1.28968       -0.58485        2.54537\n",
    "C          0.72665       -0.53821        1.60812\n",
    "C         -0.66059       -0.63788        1.62278\n",
    "H         -1.18866       -0.76325        2.57379\n",
    "C         -1.38281       -0.57923        0.43824\n",
    "H         -2.47598       -0.65808        0.46597\n",
    "C         -0.70870       -0.41532       -0.78014\n",
    "C         -1.44994       -0.24691       -1.99137\n",
    "C          0.68999       -0.31852       -0.79417\n",
    "H          1.23196       -0.19170       -1.73873\n",
    "C          1.39668       -0.37916        0.39958\n",
    "C          2.48879       -0.30069        0.38763\n",
    "H         -2.49493       -0.35404       -1.78784\n",
    "H         -1.14694       -0.98824       -2.70096\n",
    "H         -1.26259        0.72757       -2.39162\n",
    "H          2.86211       -0.36704        1.38820\n",
    "H          2.77426        0.63858       -0.03801\n",
    "H          2.89720       -1.09694       -0.19896\n",
    "''')\n",
    "\n",
    "psi4.optimize('hf/sto-3g', molecule=m_xylene)"
   ]
  },
  {
   "cell_type": "code",
   "execution_count": null,
   "metadata": {},
   "outputs": [],
   "source": [
    "anti = psi4.geometry('''\n",
    "0 1\n",
    "C         -4.17385        0.37732        0.00000\n",
    "C         -3.10385        0.37732        0.00000\n",
    "H         -4.53051        1.24338       -0.51734\n",
    "H         -4.53052        0.39232        1.00869\n",
    "C         -4.53052       -0.50373       -0.49135\n",
    "C         -2.74719        1.25838        0.49135\n",
    "H         -2.74718        0.36232       -1.00869\n",
    "H         -2.74718       -0.48873        0.51734\n",
    "H         -3.10386        2.12443       -0.02599\n",
    "H         -1.67719        1.25838        0.49135\n",
    "H         -3.10385        1.27338        1.50005\n",
    "H         -4.17385       -0.51873       -1.50005\n",
    "H         -5.60052       -0.50373       -0.49135\n",
    "H         -4.17386       -1.36979        0.02599\n",
    "''')\n",
    "\n",
    "gauche = psi4.geometry('''\n",
    "0 1\n",
    "C         -2.25507        0.85394        0.00000\n",
    "C         -1.18507        0.85394        0.00000\n",
    "C         -2.61173        1.26615       -0.92075\n",
    "H         -2.61173        1.44522        0.81736\n",
    "H         -2.61174       -0.14955        0.10339\n",
    "C         -0.82840        1.85743       -0.10339\n",
    "H         -0.82840        0.26265       -0.81736\n",
    "H         -0.82840        0.44173        0.92074\n",
    "H         -1.18508        2.26964       -1.02414\n",
    "H          0.24160        1.85744       -0.10339\n",
    "H         -1.18507        2.44872        0.71397\n",
    "H         -2.25506        2.26964       -1.02413\n",
    "H         -3.68173        1.26615       -0.92075\n",
    "H         -2.25506        0.67486       -1.73810\n",
    "''')\n",
    "\n",
    "e_anti = psi4.optimize('hf/sto-3g', molecule=anti)\n",
    "e_gauche = psi4.optimize('hf/sto-3g', molecule=gauche)\n",
    "\n",
    "print('Anti conformer: {:.5f}\\tGauche conformer: {:.5f}'.format(e_anti, e_gauche))"
   ]
  },
  {
   "cell_type": "markdown",
   "metadata": {},
   "source": [
    "xyzファイルを書き出す際に必要なスピン、電荷設定の一部自動化"
   ]
  },
  {
   "cell_type": "code",
   "execution_count": 6,
   "metadata": {},
   "outputs": [
    {
     "data": {
      "text/plain": [
       "'0 1'"
      ]
     },
     "execution_count": 6,
     "metadata": {},
     "output_type": "execute_result"
    }
   ],
   "source": [
    "## ライブラリのインポート\n",
    "import numpy as np\n",
    "import matplotlib.pyplot as plt\n",
    "%matplotlib inline\n",
    "\n",
    "import time\n",
    "\n",
    "from rdkit import rdBase, Chem\n",
    "from rdkit.Chem import AllChem, Draw, PandasTools\n",
    "from rdkit.Chem.Draw import IPythonConsole\n",
    "\n",
    "def spincount(smiles):\n",
    "    txt = smiles\n",
    "    spin = 1\n",
    "    cat = txt.count(\"+\")\n",
    "    ani = txt.count(\"-\")\n",
    "    elec = cat - ani\n",
    "    return(str(elec) + \" \" + str(spin))\n",
    "\n",
    "spincount(\"C[NH+](C)C1CSSC1.C(=O)(C(=O)[O-])O\")\n",
    "    "
   ]
  },
  {
   "cell_type": "markdown",
   "metadata": {},
   "source": [
    "smilesをxyzに書き出す"
   ]
  },
  {
   "cell_type": "code",
   "execution_count": 7,
   "metadata": {},
   "outputs": [
    {
     "name": "stdout",
     "output_type": "stream",
     "text": [
      "rdkit version:  2020.03.1\n",
      "psi4 version:  1.3.2\n",
      "numpy version:  1.18.1\n"
     ]
    }
   ],
   "source": [
    "## ライブラリのインポート\n",
    "import numpy as np\n",
    "import matplotlib.pyplot as plt\n",
    "%matplotlib inline\n",
    "\n",
    "import time\n",
    "\n",
    "from rdkit import rdBase, Chem\n",
    "from rdkit.Chem import AllChem, Draw, PandasTools\n",
    "from rdkit.Chem.Draw import IPythonConsole\n",
    "\n",
    "print('rdkit version: ', rdBase.rdkitVersion) # rdkit version:  2019.09.3\n",
    "print('psi4 version: ', psi4.__version__) # psi4 version:  1.3.2\n",
    "print('numpy version: ', np.__version__) # numpy version:  1.17.4\n",
    "\n",
    "## SMILESをxyz形式に変換\n",
    "def smi2xyz(smiles):\n",
    "    mol = Chem.AddHs(Chem.MolFromSmiles(smiles))\n",
    "    AllChem.EmbedMolecule(mol, AllChem.ETKDGv2())\n",
    "    AllChem.MMFFOptimizeMolecule(mol)\n",
    "    conf = mol.GetConformer(-1)\n",
    "    \n",
    "    xyz = spincount(smiles)\n",
    "    for atom, (x,y,z) in zip(mol.GetAtoms(), conf.GetPositions()):\n",
    "        xyz += '\\n'\n",
    "        xyz += '{}\\t{}\\t{}\\t{}'.format(atom.GetSymbol(), x, y, z)\n",
    "        \n",
    "    return xyz"
   ]
  },
  {
   "cell_type": "code",
   "execution_count": 8,
   "metadata": {},
   "outputs": [
    {
     "data": {
      "text/plain": [
       "4                     CCOP(=S)(OCC)SCCl\n",
       "5               CCSC(=O)N(CC(C)C)CC(C)C\n",
       "6    C[NH+](C)C1CSSC1.C(=O)(C(=O)[O-])O\n",
       "Name: Canonical SMILES, dtype: object"
      ]
     },
     "execution_count": 8,
     "metadata": {},
     "output_type": "execute_result"
    }
   ],
   "source": [
    "import pandas as pd\n",
    "dfm = pd.DataFrame(pd.read_csv('対象ファイルは自分で指定してください.csv'))\n",
    "#SMILESキーの入った列を指定\n",
    "sf = dfm[\"Canonical SMILES\"]"
   ]
  },
  {
   "cell_type": "markdown",
   "metadata": {},
   "source": [
    "基底関数と汎関数を色々変えて各種計算化学的記述子を算出する関数"
   ]
  },
  {
   "cell_type": "code",
   "execution_count": 9,
   "metadata": {},
   "outputs": [],
   "source": [
    "def calq(sm):\n",
    "\n",
    "    MeCl = psi4.geometry(smi2xyz(sm))\n",
    "    basis_set = ['sto-3g', '3-21G', '6-31G(d)']\n",
    "    import pandas as pd\n",
    "    df = pd.DataFrame()\n",
    "\n",
    "    psi4.set_output_file('MeCl.txt')\n",
    "    psi4.energy('hf/sto-3g', molecule=MeCl)\n",
    "    for basis in basis_set:\n",
    "        _, wfn_cl = psi4.energy('hf/' + basis, molecule=MeCl, return_wfn=True)\n",
    "        psi4.oeprop(wfn_cl, 'MULLIKEN_CHARGES')\n",
    "        df['hf/'+basis+\"dipole_x\"] = psi4.variable('SCF DIPOLE X')\n",
    "        df['hf/'+basis+\"dipole_y\"] = psi4.variable('SCF DIPOLE Y')\n",
    "        df['hf/'+basis+\"dipole_z\"] = psi4.variable('SCF DIPOLE Z')\n",
    "        df['hf/'+basis] = np.array(wfn_cl.atomic_point_charges())\n",
    "        \n",
    "    return(df)"
   ]
  },
  {
   "cell_type": "markdown",
   "metadata": {},
   "source": [
    "原子毎に出す計算科学的記述子については統計値をとってまとめる"
   ]
  },
  {
   "cell_type": "code",
   "execution_count": 10,
   "metadata": {
    "scrolled": true
   },
   "outputs": [],
   "source": [
    "dft = pd.DataFrame()\n",
    "for tet in sf:\n",
    "    dd = pd.DataFrame()\n",
    "    dd = calq(tet)\n",
    "    dd = dd.describe()[2:]\n",
    "#ddの次元は基底関数と汎関数を何種類試すかで変わるので、手動で設定が必要（いや丁寧に書けば自動化できるんですが）\n",
    "    dd = pd.DataFrame(dd.values.reshape((1,72)))\n",
    "    dft = dft.append(dd)"
   ]
  },
  {
   "cell_type": "code",
   "execution_count": 11,
   "metadata": {},
   "outputs": [
    {
     "data": {
      "text/html": [
       "<div>\n",
       "<style scoped>\n",
       "    .dataframe tbody tr th:only-of-type {\n",
       "        vertical-align: middle;\n",
       "    }\n",
       "\n",
       "    .dataframe tbody tr th {\n",
       "        vertical-align: top;\n",
       "    }\n",
       "\n",
       "    .dataframe thead th {\n",
       "        text-align: right;\n",
       "    }\n",
       "</style>\n",
       "<table border=\"1\" class=\"dataframe\">\n",
       "  <thead>\n",
       "    <tr style=\"text-align: right;\">\n",
       "      <th></th>\n",
       "      <th>0</th>\n",
       "      <th>1</th>\n",
       "      <th>2</th>\n",
       "      <th>3</th>\n",
       "      <th>4</th>\n",
       "      <th>5</th>\n",
       "      <th>6</th>\n",
       "      <th>7</th>\n",
       "      <th>8</th>\n",
       "      <th>9</th>\n",
       "      <th>...</th>\n",
       "      <th>62</th>\n",
       "      <th>63</th>\n",
       "      <th>64</th>\n",
       "      <th>65</th>\n",
       "      <th>66</th>\n",
       "      <th>67</th>\n",
       "      <th>68</th>\n",
       "      <th>69</th>\n",
       "      <th>70</th>\n",
       "      <th>71</th>\n",
       "    </tr>\n",
       "  </thead>\n",
       "  <tbody>\n",
       "    <tr>\n",
       "      <th>0</th>\n",
       "      <td>NaN</td>\n",
       "      <td>NaN</td>\n",
       "      <td>NaN</td>\n",
       "      <td>0.251207</td>\n",
       "      <td>4.540700e-16</td>\n",
       "      <td>2.270350e-16</td>\n",
       "      <td>0.000000e+00</td>\n",
       "      <td>0.495908</td>\n",
       "      <td>9.081400e-16</td>\n",
       "      <td>2.270350e-16</td>\n",
       "      <td>...</td>\n",
       "      <td>NaN</td>\n",
       "      <td>0.859876</td>\n",
       "      <td>2.475712</td>\n",
       "      <td>1.630059</td>\n",
       "      <td>3.265817</td>\n",
       "      <td>1.261900</td>\n",
       "      <td>2.206544</td>\n",
       "      <td>1.522225</td>\n",
       "      <td>3.337275</td>\n",
       "      <td>1.090287</td>\n",
       "    </tr>\n",
       "    <tr>\n",
       "      <th>0</th>\n",
       "      <td>NaN</td>\n",
       "      <td>NaN</td>\n",
       "      <td>NaN</td>\n",
       "      <td>0.118708</td>\n",
       "      <td>1.125537e-16</td>\n",
       "      <td>2.251074e-16</td>\n",
       "      <td>5.627686e-17</td>\n",
       "      <td>0.371784</td>\n",
       "      <td>1.125537e-16</td>\n",
       "      <td>4.502149e-16</td>\n",
       "      <td>...</td>\n",
       "      <td>NaN</td>\n",
       "      <td>0.190413</td>\n",
       "      <td>-0.326526</td>\n",
       "      <td>1.798885</td>\n",
       "      <td>0.196140</td>\n",
       "      <td>0.504151</td>\n",
       "      <td>-0.258988</td>\n",
       "      <td>1.969681</td>\n",
       "      <td>0.213075</td>\n",
       "      <td>0.596390</td>\n",
       "    </tr>\n",
       "    <tr>\n",
       "      <th>0</th>\n",
       "      <td>NaN</td>\n",
       "      <td>NaN</td>\n",
       "      <td>NaN</td>\n",
       "      <td>0.429415</td>\n",
       "      <td>0.000000e+00</td>\n",
       "      <td>0.000000e+00</td>\n",
       "      <td>2.262744e-16</td>\n",
       "      <td>0.874066</td>\n",
       "      <td>1.131372e-16</td>\n",
       "      <td>0.000000e+00</td>\n",
       "      <td>...</td>\n",
       "      <td>NaN</td>\n",
       "      <td>1.583269</td>\n",
       "      <td>0.519458</td>\n",
       "      <td>4.168622</td>\n",
       "      <td>1.903422</td>\n",
       "      <td>2.560699</td>\n",
       "      <td>0.873783</td>\n",
       "      <td>3.587551</td>\n",
       "      <td>1.725704</td>\n",
       "      <td>3.267541</td>\n",
       "    </tr>\n",
       "  </tbody>\n",
       "</table>\n",
       "<p>3 rows × 72 columns</p>\n",
       "</div>"
      ],
      "text/plain": [
       "   0   1   2         3             4             5             6         7   \\\n",
       "0 NaN NaN NaN  0.251207  4.540700e-16  2.270350e-16  0.000000e+00  0.495908   \n",
       "0 NaN NaN NaN  0.118708  1.125537e-16  2.251074e-16  5.627686e-17  0.371784   \n",
       "0 NaN NaN NaN  0.429415  0.000000e+00  0.000000e+00  2.262744e-16  0.874066   \n",
       "\n",
       "             8             9   ...  62        63        64        65  \\\n",
       "0  9.081400e-16  2.270350e-16  ... NaN  0.859876  2.475712  1.630059   \n",
       "0  1.125537e-16  4.502149e-16  ... NaN  0.190413 -0.326526  1.798885   \n",
       "0  1.131372e-16  0.000000e+00  ... NaN  1.583269  0.519458  4.168622   \n",
       "\n",
       "         66        67        68        69        70        71  \n",
       "0  3.265817  1.261900  2.206544  1.522225  3.337275  1.090287  \n",
       "0  0.196140  0.504151 -0.258988  1.969681  0.213075  0.596390  \n",
       "0  1.903422  2.560699  0.873783  3.587551  1.725704  3.267541  \n",
       "\n",
       "[3 rows x 72 columns]"
      ]
     },
     "execution_count": 11,
     "metadata": {},
     "output_type": "execute_result"
    }
   ],
   "source": [
    "dft"
   ]
  },
  {
   "cell_type": "code",
   "execution_count": 11,
   "metadata": {},
   "outputs": [],
   "source": [
    "#csvファイルに書き出し\n",
    "dft.to_csv('名前は自由.csv', index = False)"
   ]
  }
 ],
 "metadata": {
  "kernelspec": {
   "display_name": "Python 3",
   "language": "python",
   "name": "python3"
  },
  "language_info": {
   "codemirror_mode": {
    "name": "ipython",
    "version": 3
   },
   "file_extension": ".py",
   "mimetype": "text/x-python",
   "name": "python",
   "nbconvert_exporter": "python",
   "pygments_lexer": "ipython3",
   "version": "3.7.7"
  }
 },
 "nbformat": 4,
 "nbformat_minor": 4
}
